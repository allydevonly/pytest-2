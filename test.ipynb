{
 "cells": [
  {
   "cell_type": "code",
   "execution_count": null,
   "metadata": {},
   "outputs": [],
   "source": [
    "def multiply_list(items):\n",
    "    result = 1\n",
    "    for item in items:\n",
    "        result *= item\n",
    "    return result\n",
    "\n",
    "sample_list = [2, 3, 6]\n",
    "print(\"Result =\", multiply_list(sample_list))\n"
   ]
  },
  {
   "cell_type": "code",
   "execution_count": null,
   "metadata": {},
   "outputs": [],
   "source": [
    "def sort_by_last_element(tuples):\n",
    "    return sorted(tuples, key=lambda x: x[-1])\n",
    "\n",
    "sample_list = [(2, 5), (1, 2), (4, 4), (2, 3), (2, 1)]\n",
    "print(\"Expected result:\", sort_by_last_element(sample_list))\n",
    "\n"
   ]
  },
  {
   "cell_type": "code",
   "execution_count": null,
   "metadata": {},
   "outputs": [],
   "source": [
    "def combine_dictionaries(d1, d2):\n",
    "    combined = d1.copy()  # Start with keys and values from d1\n",
    "    for key, value in d2.items():\n",
    "        if key in combined:\n",
    "            combined[key] += value\n",
    "        else:\n",
    "            combined[key] = value\n",
    "    return combined\n",
    "\n",
    "d1 = {'a': 100, 'b': 200, 'c': 300}\n",
    "d2 = {'a': 300, 'b': 200, 'd': 400}\n",
    "print(\"Expected result:\", combine_dictionaries(d1, d2))\n"
   ]
  },
  {
   "cell_type": "code",
   "execution_count": null,
   "metadata": {},
   "outputs": [],
   "source": [
    "def generate_dict(n):\n",
    "    return {i: i*i for i in range(1, n+1)}\n",
    "\n",
    "n = 8\n",
    "print(\"Output:\", generate_dict(n))\n"
   ]
  },
  {
   "cell_type": "code",
   "execution_count": null,
   "metadata": {},
   "outputs": [],
   "source": [
    "def sort_tuple_by_float(tuples):\n",
    "    return sorted(tuples, key=lambda x: float(x[1]))\n",
    "\n",
    "sample_list = [('item1', '12.20'), ('item2', '15.10'), ('item3', '24.5')]\n",
    "print(\"Expected result:\", sort_tuple_by_float(sample_list))\n"
   ]
  },
  {
   "cell_type": "code",
   "execution_count": null,
   "metadata": {},
   "outputs": [],
   "source": [
    "# Create a set\n",
    "sample_set = {0, 1, 2, 3, 4}\n",
    "print(\"Initial Set:\", sample_set)\n",
    "\n",
    "# Iterate over set\n",
    "for item in sample_set:\n",
    "    print(\"Item:\", item)\n",
    "\n",
    "# Add members to the set\n",
    "sample_set.add(5)\n",
    "sample_set.update([6, 7])\n",
    "print(\"Set after adding members:\", sample_set)\n",
    "\n",
    "# Remove items from the set\n",
    "sample_set.remove(3)\n",
    "sample_set.discard(2)\n",
    "print(\"Set after removing items:\", sample_set)\n"
   ]
  }
 ],
 "metadata": {
  "language_info": {
   "name": "python"
  },
  "orig_nbformat": 4
 },
 "nbformat": 4,
 "nbformat_minor": 2
}
